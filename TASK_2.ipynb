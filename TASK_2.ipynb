{
 "cells": [
  {
   "cell_type": "markdown",
   "metadata": {},
   "source": [
    "- Stuent Name: Giacomo Govoni\n",
    "- Studdent Number: XXXXXXXX\n",
    "- Course: MSc Space Science and Technology"
   ]
  },
  {
   "cell_type": "markdown",
   "metadata": {},
   "source": [
    "# Task - 2\n",
    "## Data Cleaning and Analysis\n"
   ]
  },
  {
   "cell_type": "code",
   "execution_count": null,
   "metadata": {},
   "outputs": [],
   "source": [
    "from ipywidgets import interact\n",
    "# from json import loads\n",
    "import numpy as np\n",
    "import pandas as pd\n",
    "import json\n",
    "import matplotlib.pyplot as plt\n",
    "%matplotlib inline\n",
    "import nltk\n",
    "nltk.download('vader_lexicon')\n",
    "from pathlib import Path\n",
    "from datetime import datetime\n",
    "import time\n",
    "from bokeh.io import push_notebook, show, output_notebook\n",
    "from bokeh.plotting import figure\n",
    "output_notebook()"
   ]
  },
  {
   "cell_type": "code",
   "execution_count": 74,
   "metadata": {},
   "outputs": [],
   "source": [
    "subreddits = ['r/popular' , 'r/space', 'r/cats']\n",
    "sorts = ['hot', 'top', 'controversial', 'gilded']\n",
    "res_data = {}\n"
   ]
  },
  {
   "cell_type": "markdown",
   "metadata": {},
   "source": [
    "## Analysis of the Popular Subreddit"
   ]
  },
  {
   "cell_type": "markdown",
   "metadata": {},
   "source": [
    "Popular 'Subreddit' is not a subreddit per se, but rather a page where all the highly upvoted posts can be seen here. "
   ]
  },
  {
   "cell_type": "code",
   "execution_count": 75,
   "metadata": {},
   "outputs": [
    {
     "data": {
      "text/html": [
       "<div>\n",
       "<style scoped>\n",
       "    .dataframe tbody tr th:only-of-type {\n",
       "        vertical-align: middle;\n",
       "    }\n",
       "\n",
       "    .dataframe tbody tr th {\n",
       "        vertical-align: top;\n",
       "    }\n",
       "\n",
       "    .dataframe thead th {\n",
       "        text-align: right;\n",
       "    }\n",
       "</style>\n",
       "<table border=\"1\" class=\"dataframe\">\n",
       "  <thead>\n",
       "    <tr style=\"text-align: right;\">\n",
       "      <th></th>\n",
       "      <th>author_fullname</th>\n",
       "      <th>author_premium</th>\n",
       "      <th>downs</th>\n",
       "      <th>is_original_content</th>\n",
       "      <th>score</th>\n",
       "      <th>selftext</th>\n",
       "      <th>subreddit</th>\n",
       "      <th>title</th>\n",
       "      <th>ups</th>\n",
       "      <th>upvote_ratio</th>\n",
       "    </tr>\n",
       "  </thead>\n",
       "  <tbody>\n",
       "    <tr>\n",
       "      <th>0</th>\n",
       "      <td>t2_90l1xu04</td>\n",
       "      <td>0.0</td>\n",
       "      <td>0.0</td>\n",
       "      <td>0.0</td>\n",
       "      <td>107996.0</td>\n",
       "      <td></td>\n",
       "      <td>meirl</td>\n",
       "      <td>meirl</td>\n",
       "      <td>107996.0</td>\n",
       "      <td>0.91</td>\n",
       "    </tr>\n",
       "    <tr>\n",
       "      <th>1</th>\n",
       "      <td>t2_5v2qv</td>\n",
       "      <td>0.0</td>\n",
       "      <td>0.0</td>\n",
       "      <td>0.0</td>\n",
       "      <td>90152.0</td>\n",
       "      <td></td>\n",
       "      <td>wholesomememes</td>\n",
       "      <td>Sounds like a nice place to work 🫕</td>\n",
       "      <td>90152.0</td>\n",
       "      <td>0.95</td>\n",
       "    </tr>\n",
       "    <tr>\n",
       "      <th>2</th>\n",
       "      <td>t2_3ovw7qc2</td>\n",
       "      <td>1.0</td>\n",
       "      <td>0.0</td>\n",
       "      <td>0.0</td>\n",
       "      <td>83959.0</td>\n",
       "      <td></td>\n",
       "      <td>nextfuckinglevel</td>\n",
       "      <td>Iran: defying the mullahs no turban is safe.</td>\n",
       "      <td>83959.0</td>\n",
       "      <td>0.78</td>\n",
       "    </tr>\n",
       "    <tr>\n",
       "      <th>3</th>\n",
       "      <td>t2_4g57yzjl</td>\n",
       "      <td>1.0</td>\n",
       "      <td>0.0</td>\n",
       "      <td>0.0</td>\n",
       "      <td>71535.0</td>\n",
       "      <td></td>\n",
       "      <td>interestingasfuck</td>\n",
       "      <td>Cutting and trying 550 day old dry aged prime ...</td>\n",
       "      <td>71535.0</td>\n",
       "      <td>0.82</td>\n",
       "    </tr>\n",
       "    <tr>\n",
       "      <th>4</th>\n",
       "      <td>t2_bfqha5ih</td>\n",
       "      <td>0.0</td>\n",
       "      <td>0.0</td>\n",
       "      <td>0.0</td>\n",
       "      <td>69306.0</td>\n",
       "      <td></td>\n",
       "      <td>Damnthatsinteresting</td>\n",
       "      <td>South Pole morning</td>\n",
       "      <td>69306.0</td>\n",
       "      <td>0.95</td>\n",
       "    </tr>\n",
       "    <tr>\n",
       "      <th>...</th>\n",
       "      <td>...</td>\n",
       "      <td>...</td>\n",
       "      <td>...</td>\n",
       "      <td>...</td>\n",
       "      <td>...</td>\n",
       "      <td>...</td>\n",
       "      <td>...</td>\n",
       "      <td>...</td>\n",
       "      <td>...</td>\n",
       "      <td>...</td>\n",
       "    </tr>\n",
       "    <tr>\n",
       "      <th>95</th>\n",
       "      <td>t2_8kafd7h6</td>\n",
       "      <td>0.0</td>\n",
       "      <td>0.0</td>\n",
       "      <td>0.0</td>\n",
       "      <td>18737.0</td>\n",
       "      <td></td>\n",
       "      <td>AbsoluteUnits</td>\n",
       "      <td>Absolute unit of a baby</td>\n",
       "      <td>18737.0</td>\n",
       "      <td>0.97</td>\n",
       "    </tr>\n",
       "    <tr>\n",
       "      <th>96</th>\n",
       "      <td>t2_67nmx</td>\n",
       "      <td>0.0</td>\n",
       "      <td>0.0</td>\n",
       "      <td>0.0</td>\n",
       "      <td>18755.0</td>\n",
       "      <td></td>\n",
       "      <td>PeopleFuckingDying</td>\n",
       "      <td>bAbY DeVoUrEd By ShArK</td>\n",
       "      <td>18755.0</td>\n",
       "      <td>0.97</td>\n",
       "    </tr>\n",
       "    <tr>\n",
       "      <th>97</th>\n",
       "      <td>t2_pad04bo4</td>\n",
       "      <td>0.0</td>\n",
       "      <td>0.0</td>\n",
       "      <td>0.0</td>\n",
       "      <td>19129.0</td>\n",
       "      <td></td>\n",
       "      <td>FunnyAnimals</td>\n",
       "      <td>Only 1 brain cell between these 2.</td>\n",
       "      <td>19129.0</td>\n",
       "      <td>0.95</td>\n",
       "    </tr>\n",
       "    <tr>\n",
       "      <th>98</th>\n",
       "      <td>t2_3yv2rb</td>\n",
       "      <td>0.0</td>\n",
       "      <td>0.0</td>\n",
       "      <td>0.0</td>\n",
       "      <td>19475.0</td>\n",
       "      <td></td>\n",
       "      <td>PoliticalHumor</td>\n",
       "      <td>Im voting straight Democrat because the GOP ar...</td>\n",
       "      <td>19475.0</td>\n",
       "      <td>0.85</td>\n",
       "    </tr>\n",
       "    <tr>\n",
       "      <th>99</th>\n",
       "      <td>t2_8ww4qo22</td>\n",
       "      <td>0.0</td>\n",
       "      <td>0.0</td>\n",
       "      <td>0.0</td>\n",
       "      <td>22468.0</td>\n",
       "      <td></td>\n",
       "      <td>technicallythetruth</td>\n",
       "      <td>Smаrt tеасhеr. . .</td>\n",
       "      <td>22468.0</td>\n",
       "      <td>0.96</td>\n",
       "    </tr>\n",
       "  </tbody>\n",
       "</table>\n",
       "<p>100 rows × 10 columns</p>\n",
       "</div>"
      ],
      "text/plain": [
       "   author_fullname  author_premium  downs  is_original_content     score  \\\n",
       "0      t2_90l1xu04             0.0    0.0                  0.0  107996.0   \n",
       "1         t2_5v2qv             0.0    0.0                  0.0   90152.0   \n",
       "2      t2_3ovw7qc2             1.0    0.0                  0.0   83959.0   \n",
       "3      t2_4g57yzjl             1.0    0.0                  0.0   71535.0   \n",
       "4      t2_bfqha5ih             0.0    0.0                  0.0   69306.0   \n",
       "..             ...             ...    ...                  ...       ...   \n",
       "95     t2_8kafd7h6             0.0    0.0                  0.0   18737.0   \n",
       "96        t2_67nmx             0.0    0.0                  0.0   18755.0   \n",
       "97     t2_pad04bo4             0.0    0.0                  0.0   19129.0   \n",
       "98       t2_3yv2rb             0.0    0.0                  0.0   19475.0   \n",
       "99     t2_8ww4qo22             0.0    0.0                  0.0   22468.0   \n",
       "\n",
       "   selftext             subreddit  \\\n",
       "0                           meirl   \n",
       "1                  wholesomememes   \n",
       "2                nextfuckinglevel   \n",
       "3               interestingasfuck   \n",
       "4            Damnthatsinteresting   \n",
       "..      ...                   ...   \n",
       "95                  AbsoluteUnits   \n",
       "96             PeopleFuckingDying   \n",
       "97                   FunnyAnimals   \n",
       "98                 PoliticalHumor   \n",
       "99            technicallythetruth   \n",
       "\n",
       "                                                title       ups  upvote_ratio  \n",
       "0                                               meirl  107996.0          0.91  \n",
       "1                  Sounds like a nice place to work 🫕   90152.0          0.95  \n",
       "2        Iran: defying the mullahs no turban is safe.   83959.0          0.78  \n",
       "3   Cutting and trying 550 day old dry aged prime ...   71535.0          0.82  \n",
       "4                                  South Pole morning   69306.0          0.95  \n",
       "..                                                ...       ...           ...  \n",
       "95                            Absolute unit of a baby   18737.0          0.97  \n",
       "96                             bAbY DeVoUrEd By ShArK   18755.0          0.97  \n",
       "97                 Only 1 brain cell between these 2.   19129.0          0.95  \n",
       "98  Im voting straight Democrat because the GOP ar...   19475.0          0.85  \n",
       "99                                 Smаrt tеасhеr. . .   22468.0          0.96  \n",
       "\n",
       "[100 rows x 10 columns]"
      ]
     },
     "execution_count": 75,
     "metadata": {},
     "output_type": "execute_result"
    }
   ],
   "source": [
    "subreddit = 'popular'\n",
    "sort = 'top'\n",
    "\n",
    "with open(f'raw/r/{subreddit}-{sort}.json', 'r') as f:\n",
    "    res_data = json.load(f)\n",
    "\n",
    "\n",
    "\n",
    "\n",
    "df = pd.DataFrame()\n",
    "df_about = pd.DataFrame()\n",
    "b = pd.DataFrame()\n",
    "\n",
    "\n",
    "if sort != 'about':\n",
    "    for post in res_data['data']['children']:\n",
    "        # print(post)\n",
    "        df = df.append({\n",
    "            'subreddit': post['data']['subreddit'],\n",
    "            'title': post['data']['title'],\n",
    "            'selftext': post['data']['selftext'],\n",
    "            'upvote_ratio': post['data']['upvote_ratio'],\n",
    "            'ups': post['data']['ups'],\n",
    "            'downs': post['data']['downs'],\n",
    "            'score': post['data']['score'],\n",
    "            'author_premium': post['data']['author_premium'],\n",
    "            'author_fullname': post['data']['author_fullname'],\n",
    "            'is_original_content' : post['data']['is_original_content']\n",
    "            \n",
    "        }, ignore_index = True)\n",
    "elif sort == 'about':\n",
    "    # for post in res_data:\n",
    "    #     print(post)\n",
    "    df = df.append({\n",
    "        'subreddit': res_data['data']['display_name_prefixed'],\n",
    "        'subscribers': res_data['data']['subscribers'],\n",
    "        'created_utc': res_data['data']['created_utc'],\n",
    "        'public_description': res_data['data']['public_description'],\n",
    "        'primary_color': res_data['data']['primary_color'],\n",
    "        'user_is_subscriber': res_data['data']['user_is_subscriber'],\n",
    "        \n",
    "    }, ignore_index = True)\n",
    "    \n",
    "# b = b.append(df.pivot_table(columns = ['subreddit'], aggfunc='size'), ignore_index = True)\n",
    "# b = df.pivot_table(columns = ['subreddit'], aggfunc='size')\n",
    "df\n",
    "\n",
    "# df.sort_values(by=['subreddit'])\n",
    "# c = b.sort_values(ascending=False)"
   ]
  },
  {
   "cell_type": "markdown",
   "metadata": {},
   "source": [
    "In the top 100 popular posts ther are 64 unique subreddits! That means very few subreddits break the Top 100 leaderboard."
   ]
  },
  {
   "cell_type": "code",
   "execution_count": 76,
   "metadata": {},
   "outputs": [
    {
     "name": "stdout",
     "output_type": "stream",
     "text": [
      "70\n",
      "['meirl' 'wholesomememes' 'nextfuckinglevel' 'interestingasfuck'\n",
      " 'Damnthatsinteresting' 'WhitePeopleTwitter' 'todayilearned' 'aww'\n",
      " 'Funnymemes' 'CasualUK' 'politics' 'cats' 'BrandNewSentence' 'WorkReform'\n",
      " 'worldnews' 'PublicFreakout' 'IdiotsInCars' 'Unexpected' 'gaming'\n",
      " 'therewasanattempt' 'entertainment' 'oddlysatisfying' 'pics' 'funny'\n",
      " 'nba' 'memes' 'WatchPeopleDieInside' 'baseball' 'rareinsults'\n",
      " 'pcmasterrace' 'OldSchoolCool' 'trippinthroughtime' 'MadeMeSmile'\n",
      " 'tumblr' 'ContagiousLaughter' 'LeopardsAteMyFace' 'SelfAwarewolves'\n",
      " 'news' 'texas' 'BeAmazed' 'Awwducational' 'SweatyPalms' 'PoliticalHumor'\n",
      " 'ProgrammerHumor' 'HumansBeingBros' 'mildlyinteresting' 'likeus'\n",
      " 'AnimalsBeingBros' 'JustGuysBeingDudes' 'MovieDetails' 'HolUp'\n",
      " 'CrazyFuckingVideos' 'facepalm' 'confidentlyincorrect'\n",
      " 'perfectlycutscreams' 'MurderedByWords' 'spaceporn' 'lotrmemes' 'comics'\n",
      " 'antiwork' 'KidsAreFuckingStupid' 'WinStupidPrizes' 'gifs'\n",
      " 'instant_regret' 'technicallythetruth' 'dndmemes' 'rarepuppers'\n",
      " 'AbsoluteUnits' 'PeopleFuckingDying' 'FunnyAnimals']\n"
     ]
    }
   ],
   "source": [
    "print(df['subreddit'].nunique())\n",
    "print(df['subreddit'].unique())\n"
   ]
  },
  {
   "cell_type": "markdown",
   "metadata": {},
   "source": [
    "The first plot is against the first 100 posts and upvotes. This shows the upvotes greater than 60k is very rare in popular."
   ]
  },
  {
   "cell_type": "code",
   "execution_count": 77,
   "metadata": {},
   "outputs": [
    {
     "data": {
      "text/plain": [
       "Text(0.5, 1.0, 'Upvotes for the first 100 posts in r/popular')"
      ]
     },
     "execution_count": 77,
     "metadata": {},
     "output_type": "execute_result"
    },
    {
     "data": {
      "image/png": "[encoded data removed]",
      "text/plain": [
       "<Figure size 432x288 with 1 Axes>"
      ]
     },
     "metadata": {
      "needs_background": "light"
     },
     "output_type": "display_data"
    }
   ],
   "source": [
    "plt.plot(range(len(df['score'])), df['score'])\n",
    "plt.title(\"Upvotes for the first 100 posts in r/popular\")\n"
   ]
  },
  {
   "cell_type": "markdown",
   "metadata": {},
   "source": [
    "In the following plot the upvote ratio is plotted for the posts in r/popular. Apart from one anomaly most of the posts here have the ratio in he ballpark  of 0.95 to 0.75."
   ]
  },
  {
   "cell_type": "code",
   "execution_count": 78,
   "metadata": {},
   "outputs": [
    {
     "data": {
      "text/plain": [
       "Text(0.5, 1.0, 'Upvote Ratio for the first 100 posts in r/popular')"
      ]
     },
     "execution_count": 78,
     "metadata": {},
     "output_type": "execute_result"
    },
    {
     "data": {
      "image/png": "[encoded data removed]",
      "text/plain": [
       "<Figure size 432x288 with 1 Axes>"
      ]
     },
     "metadata": {
      "needs_background": "light"
     },
     "output_type": "display_data"
    }
   ],
   "source": [
    "plt.plot(range(len(df['upvote_ratio'])), df['upvote_ratio'])\n",
    "plt.title(\"Upvote Ratio for the first 100 posts in r/popular\")"
   ]
  },
  {
   "cell_type": "markdown",
   "metadata": {},
   "source": [
    "## Analysing the data for aforementioned subreddits.\n",
    "For this the subreddits are stored in an empty nested dictionary so that once collected the data is stored in an conveniently readable format. Then it is looped over it and the corresponding values are stored in there \n"
   ]
  },
  {
   "cell_type": "code",
   "execution_count": 79,
   "metadata": {},
   "outputs": [],
   "source": [
    "subreddits = ['r/space', 'r/cats', 'r/music', 'r/books', 'r/sports', 'r/tech', 'r/hadesthegame', 'r/lifeprotips', 'r/meirl']\n",
    "sorts = ['hot', 'top', 'controversial', 'about']\n",
    "res_data_comp = {'r/space':{'about': {}, 'hot': {}, 'top': {}, 'controversial': {}, 'glided': {}}, \n",
    "                 'r/cats': {'about': {}, 'hot': {}, 'top': {}, 'controversial': {}, 'glided': {}}, \n",
    "                 'r/music': {'about': {}, 'hot': {}, 'top': {}, 'controversial': {}, 'glided': {}}, \n",
    "                 'r/books': {'about': {}, 'hot': {}, 'top': {}, 'controversial': {}, 'glided': {}}, \n",
    "                 'r/sports': {'about': {}, 'hot': {}, 'top': {}, 'controversial': {}, 'glided': {}}, \n",
    "                 'r/tech': {'about': {}, 'hot': {}, 'top': {}, 'controversial': {}, 'glided': {}},\n",
    "                 'r/hadesthegame': {'about': {}, 'hot': {}, 'top': {}, 'controversial': {}, 'glided': {}},\n",
    "                 'r/lifeprotips': {'about': {}, 'hot': {}, 'top': {}, 'controversial': {}, 'glided': {}},\n",
    "                 'r/meirl': {'about': {}, 'hot': {}, 'top': {}, 'controversial': {}, 'glided': {}},\n",
    "                 'r/all': {'about': {}, 'hot': {}, 'top': {}, 'controversial': {}, 'glided': {}},\n",
    "                 'r/popular': {'about': {}, 'hot': {}, 'top': {}, 'controversial': {}, 'glided': {}},       \n",
    "                 }\n",
    "\n",
    "for subred in subreddits:\n",
    "    for sor in sorts:\n",
    "        with open(f'raw/{subred}-{sor}.json', 'r') as f:\n",
    "            res_data_comp[f'{subred}'][f'{sor}'] |= json.load(f)"
   ]
  },
  {
   "cell_type": "markdown",
   "metadata": {},
   "source": [
    "The stored values are then bought into the pandas dataframe. With this, a over 200k lines of jsonn file got converted in a table with lines just under 2000. "
   ]
  },
  {
   "cell_type": "code",
   "execution_count": 80,
   "metadata": {},
   "outputs": [
    {
     "data": {
      "text/html": [
       "<div>\n",
       "<style scoped>\n",
       "    .dataframe tbody tr th:only-of-type {\n",
       "        vertical-align: middle;\n",
       "    }\n",
       "\n",
       "    .dataframe tbody tr th {\n",
       "        vertical-align: top;\n",
       "    }\n",
       "\n",
       "    .dataframe thead th {\n",
       "        text-align: right;\n",
       "    }\n",
       "</style>\n",
       "<table border=\"1\" class=\"dataframe\">\n",
       "  <thead>\n",
       "    <tr style=\"text-align: right;\">\n",
       "      <th></th>\n",
       "      <th>Down Votes</th>\n",
       "      <th>Score</th>\n",
       "      <th>Self Text</th>\n",
       "      <th>Subreddit</th>\n",
       "      <th>Title</th>\n",
       "      <th>Up Votes</th>\n",
       "      <th>Upvote Ratio</th>\n",
       "    </tr>\n",
       "  </thead>\n",
       "  <tbody>\n",
       "    <tr>\n",
       "      <th>0</th>\n",
       "      <td>0.0</td>\n",
       "      <td>15.0</td>\n",
       "      <td>Please sort comments by 'new' to find question...</td>\n",
       "      <td>space</td>\n",
       "      <td>All Space Questions thread for week of October...</td>\n",
       "      <td>15.0</td>\n",
       "      <td>0.85</td>\n",
       "    </tr>\n",
       "    <tr>\n",
       "      <th>1</th>\n",
       "      <td>0.0</td>\n",
       "      <td>2023.0</td>\n",
       "      <td></td>\n",
       "      <td>space</td>\n",
       "      <td>NASA Asteroid Threat Practice Drill Shows We'r...</td>\n",
       "      <td>2023.0</td>\n",
       "      <td>0.95</td>\n",
       "    </tr>\n",
       "    <tr>\n",
       "      <th>2</th>\n",
       "      <td>0.0</td>\n",
       "      <td>302.0</td>\n",
       "      <td></td>\n",
       "      <td>space</td>\n",
       "      <td>Meteorite analyzed by Amir Siraj (age 22) offi...</td>\n",
       "      <td>302.0</td>\n",
       "      <td>0.86</td>\n",
       "    </tr>\n",
       "    <tr>\n",
       "      <th>3</th>\n",
       "      <td>0.0</td>\n",
       "      <td>328.0</td>\n",
       "      <td></td>\n",
       "      <td>space</td>\n",
       "      <td>Researchers Make Rocket Fuel Using Actual Rego...</td>\n",
       "      <td>328.0</td>\n",
       "      <td>0.96</td>\n",
       "    </tr>\n",
       "    <tr>\n",
       "      <th>4</th>\n",
       "      <td>0.0</td>\n",
       "      <td>1223.0</td>\n",
       "      <td></td>\n",
       "      <td>space</td>\n",
       "      <td>This was over San Diego, CA driving east. Saw ...</td>\n",
       "      <td>1223.0</td>\n",
       "      <td>0.93</td>\n",
       "    </tr>\n",
       "    <tr>\n",
       "      <th>...</th>\n",
       "      <td>...</td>\n",
       "      <td>...</td>\n",
       "      <td>...</td>\n",
       "      <td>...</td>\n",
       "      <td>...</td>\n",
       "      <td>...</td>\n",
       "      <td>...</td>\n",
       "    </tr>\n",
       "    <tr>\n",
       "      <th>1831</th>\n",
       "      <td>0.0</td>\n",
       "      <td>71.0</td>\n",
       "      <td></td>\n",
       "      <td>meirl</td>\n",
       "      <td>meirl</td>\n",
       "      <td>71.0</td>\n",
       "      <td>0.94</td>\n",
       "    </tr>\n",
       "    <tr>\n",
       "      <th>1832</th>\n",
       "      <td>0.0</td>\n",
       "      <td>51.0</td>\n",
       "      <td></td>\n",
       "      <td>meirl</td>\n",
       "      <td>Meirl</td>\n",
       "      <td>51.0</td>\n",
       "      <td>0.93</td>\n",
       "    </tr>\n",
       "    <tr>\n",
       "      <th>1833</th>\n",
       "      <td>0.0</td>\n",
       "      <td>13863.0</td>\n",
       "      <td></td>\n",
       "      <td>meirl</td>\n",
       "      <td>meirl</td>\n",
       "      <td>13863.0</td>\n",
       "      <td>0.97</td>\n",
       "    </tr>\n",
       "    <tr>\n",
       "      <th>1834</th>\n",
       "      <td>0.0</td>\n",
       "      <td>1271.0</td>\n",
       "      <td></td>\n",
       "      <td>meirl</td>\n",
       "      <td>Meirl</td>\n",
       "      <td>1271.0</td>\n",
       "      <td>0.97</td>\n",
       "    </tr>\n",
       "    <tr>\n",
       "      <th>1835</th>\n",
       "      <td>0.0</td>\n",
       "      <td>8014.0</td>\n",
       "      <td></td>\n",
       "      <td>meirl</td>\n",
       "      <td>meirl</td>\n",
       "      <td>8014.0</td>\n",
       "      <td>0.97</td>\n",
       "    </tr>\n",
       "  </tbody>\n",
       "</table>\n",
       "<p>1836 rows × 7 columns</p>\n",
       "</div>"
      ],
      "text/plain": [
       "      Down Votes    Score                                          Self Text  \\\n",
       "0            0.0     15.0  Please sort comments by 'new' to find question...   \n",
       "1            0.0   2023.0                                                      \n",
       "2            0.0    302.0                                                      \n",
       "3            0.0    328.0                                                      \n",
       "4            0.0   1223.0                                                      \n",
       "...          ...      ...                                                ...   \n",
       "1831         0.0     71.0                                                      \n",
       "1832         0.0     51.0                                                      \n",
       "1833         0.0  13863.0                                                      \n",
       "1834         0.0   1271.0                                                      \n",
       "1835         0.0   8014.0                                                      \n",
       "\n",
       "     Subreddit                                              Title  Up Votes  \\\n",
       "0        space  All Space Questions thread for week of October...      15.0   \n",
       "1        space  NASA Asteroid Threat Practice Drill Shows We'r...    2023.0   \n",
       "2        space  Meteorite analyzed by Amir Siraj (age 22) offi...     302.0   \n",
       "3        space  Researchers Make Rocket Fuel Using Actual Rego...     328.0   \n",
       "4        space  This was over San Diego, CA driving east. Saw ...    1223.0   \n",
       "...        ...                                                ...       ...   \n",
       "1831     meirl                                              meirl      71.0   \n",
       "1832     meirl                                              Meirl      51.0   \n",
       "1833     meirl                                              meirl   13863.0   \n",
       "1834     meirl                                              Meirl    1271.0   \n",
       "1835     meirl                                              meirl    8014.0   \n",
       "\n",
       "      Upvote Ratio  \n",
       "0             0.85  \n",
       "1             0.95  \n",
       "2             0.86  \n",
       "3             0.96  \n",
       "4             0.93  \n",
       "...            ...  \n",
       "1831          0.94  \n",
       "1832          0.93  \n",
       "1833          0.97  \n",
       "1834          0.97  \n",
       "1835          0.97  \n",
       "\n",
       "[1836 rows x 7 columns]"
      ]
     },
     "execution_count": 80,
     "metadata": {},
     "output_type": "execute_result"
    }
   ],
   "source": [
    "df = pd.DataFrame()\n",
    "df_about = pd.DataFrame()\n",
    "b = pd.DataFrame()\n",
    "\n",
    "for subred in subreddits:\n",
    "    for sor in sorts:\n",
    "        if sor != 'about':\n",
    "            for post in res_data_comp[f'{subred}'][f'{sor}']['data']['children']:\n",
    "                df = df.append({\n",
    "                    'Subreddit': post['data']['subreddit'],\n",
    "                    'Title': post['data']['title'],\n",
    "                    'Self Text': post['data']['selftext'],\n",
    "                    'Upvote Ratio': post['data']['upvote_ratio'],\n",
    "                    'Up Votes': post['data']['ups'],\n",
    "                    'Down Votes': post['data']['downs'],\n",
    "                    'Score': post['data']['score'],\n",
    "\n",
    "                }, ignore_index = True)\n",
    "        elif sor == 'about':\n",
    "            df_about = df_about.append({\n",
    "                'Subreddit': res_data_comp[f'{subred}'][f'{sor}']['data']['display_name_prefixed'],\n",
    "                'Total Subscribers': res_data_comp[f'{subred}'][f'{sor}']['data']['subscribers'],\n",
    "                'Time of Post Created in UTC': res_data_comp[f'{subred}'][f'{sor}']['data']['created_utc'],\n",
    "                'Description': res_data_comp[f'{subred}'][f'{sor}']['data']['public_description'],\n",
    "                'Primary Color': res_data_comp[f'{subred}'][f'{sor}']['data']['primary_color'],\n",
    "                'Am I subscribed': res_data_comp[f'{subred}'][f'{sor}']['data']['user_is_subscriber'],\n",
    "                \n",
    "            }, ignore_index = True)\n",
    "\n",
    "df"
   ]
  },
  {
   "cell_type": "markdown",
   "metadata": {},
   "source": [
    "This plot shows that the amount of subscibers each subreddit has to give context of next few analysis."
   ]
  },
  {
   "cell_type": "code",
   "execution_count": 81,
   "metadata": {},
   "outputs": [
    {
     "data": {
      "text/plain": [
       "Text(0.5, 1.0, 'Subredddit vs Subscribers')"
      ]
     },
     "execution_count": 81,
     "metadata": {},
     "output_type": "execute_result"
    },
    {
     "data": {
      "image/png": "[encoded data removed]",
      "text/plain": [
       "<Figure size 720x720 with 1 Axes>"
      ]
     },
     "metadata": {},
     "output_type": "display_data"
    }
   ],
   "source": [
    "x = np.array(df_about['Subreddit'])\n",
    "y = np.array(df_about['Total Subscribers'])\n",
    "plt.figure(facecolor='white', figsize=(10, 10))\n",
    "plt.pie(y, labels=x)\n",
    "plt.legend()\n",
    "plt.title('Subredddit vs Subscribers')"
   ]
  },
  {
   "cell_type": "markdown",
   "metadata": {},
   "source": [
    "This analysis shows the upvotes each subreddit gets in general. Notice the trend in r/tech. Remember the subscribers r/tech has? It was the least one, but it dominates here. This could be because mre users are active here and are also tech enthusiasts who stay more active than others."
   ]
  },
  {
   "cell_type": "code",
   "execution_count": 82,
   "metadata": {},
   "outputs": [
    {
     "data": {
      "image/png": "[encoded data removed]",
      "text/plain": [
       "<Figure size 1800x432 with 1 Axes>"
      ]
     },
     "metadata": {
      "needs_background": "light"
     },
     "output_type": "display_data"
    }
   ],
   "source": [
    "sums_values = df.groupby(\"Subreddit\").sum()\n",
    "x = np.array(['r/space', 'r/cats', 'r/music', 'r/books', 'r/sports', 'r/tech', 'r/hadesthegame', 'r/lifeprotips', 'r/meirl'])\n",
    "# sums_values\n",
    "y = np.array(sums_values['Score'])\n",
    "plt.figure(figsize=(25, 6))\n",
    "plt.title('Subredddit vs Total Upvotes for every 100 Posts')\n",
    "plt.bar(x,y, color='pink')\n",
    "plt.show()"
   ]
  },
  {
   "cell_type": "markdown",
   "metadata": {},
   "source": [
    "To make the above point clear, here is the graph of the number of upvotes per subscriber so that it will be more clear about the trend discussed before. The upvotes for r/tech is more than 1.5 per post per subscriber. Compared to others. r/space is the least active or most abandoned subreddit in the pool chosen. Because of the r/tech, a log plot has been plotted in both places for others to be seen properly. "
   ]
  },
  {
   "cell_type": "code",
   "execution_count": 83,
   "metadata": {},
   "outputs": [
    {
     "data": {
      "image/png": "[encoded data removed]",
      "text/plain": [
       "<Figure size 2160x432 with 2 Axes>"
      ]
     },
     "metadata": {
      "needs_background": "light"
     },
     "output_type": "display_data"
    }
   ],
   "source": [
    "sums_values = df.groupby(\"Subreddit\").sum()\n",
    "x = np.array(['r/space', 'r/cats', 'r/music', 'r/books', 'r/sports', 'r/tech', 'r/hadesthegame', 'r/lifeprotips', 'r/meirl'])\n",
    "# sums_values\n",
    "y = np.array(sums_values['Score'])/np.array(df_about['Total Subscribers'])\n",
    "fig, (ax1, ax2) = plt.subplots(1, 2, figsize=(30,6))\n",
    "fig.suptitle('Subredddit vs Upvotes per Subscriber')\n",
    "ax1.bar(x,y, color='grey')\n",
    "ax2.bar(x,y, color='green')\n",
    "ax2.set_title(\"log scale for first few subreddits to be visible\")\n",
    "ax2.set_yscale(\"log\", nonpositive='clip')"
   ]
  },
  {
   "cell_type": "markdown",
   "metadata": {},
   "source": [
    "Coming to the average upvotes r/tech is still miles ahead, but few others are not that far behind as before. This could be because of a few reasons but the most plausible one could be the number of posts being posted."
   ]
  },
  {
   "cell_type": "code",
   "execution_count": 84,
   "metadata": {},
   "outputs": [
    {
     "data": {
      "image/png": "[encoded data removed]",
      "text/plain": [
       "<Figure size 2160x432 with 2 Axes>"
      ]
     },
     "metadata": {
      "needs_background": "light"
     },
     "output_type": "display_data"
    }
   ],
   "source": [
    "sums_values = df.groupby(\"Subreddit\").sum()\n",
    "x = np.array(['r/space', 'r/cats', 'r/music', 'r/books', 'r/sports', 'r/tech', 'r/hadesthegame', 'r/lifeprotips', 'r/meirl'])\n",
    "# sums_values\n",
    "y = np.array(sums_values['Score'])/(len(sums_values['Score']))\n",
    "fig, (ax1, ax2) = plt.subplots(1, 2, figsize=(30,6))\n",
    "fig.suptitle('Average upvotes for each subreddit')\n",
    "ax1.bar(x,y, color='grey')\n",
    "ax2.bar(x,y, color='green')\n",
    "ax2.set_title(\"log scale for first few subreddits to be visible\")\n",
    "ax2.set_yscale(\"log\", nonpositive='clip')\n",
    "    \n",
    "        "
   ]
  },
  {
   "cell_type": "markdown",
   "metadata": {},
   "source": [
    "## Time based search with Pushshift"
   ]
  },
  {
   "cell_type": "markdown",
   "metadata": {},
   "source": [
    "I had planned to do analysis over years, but due to time restraints I am unable to. But, working on this was a joy, so I would work on this over the next few months and make more analysis(that is discussed in the next section) and keep posting it to my github"
   ]
  },
  {
   "cell_type": "code",
   "execution_count": 85,
   "metadata": {},
   "outputs": [
    {
     "data": {
      "text/html": [
       "<div>\n",
       "<style scoped>\n",
       "    .dataframe tbody tr th:only-of-type {\n",
       "        vertical-align: middle;\n",
       "    }\n",
       "\n",
       "    .dataframe tbody tr th {\n",
       "        vertical-align: top;\n",
       "    }\n",
       "\n",
       "    .dataframe thead th {\n",
       "        text-align: right;\n",
       "    }\n",
       "</style>\n",
       "<table border=\"1\" class=\"dataframe\">\n",
       "  <thead>\n",
       "    <tr style=\"text-align: right;\">\n",
       "      <th></th>\n",
       "    </tr>\n",
       "  </thead>\n",
       "  <tbody>\n",
       "  </tbody>\n",
       "</table>\n",
       "</div>"
      ],
      "text/plain": [
       "Empty DataFrame\n",
       "Columns: []\n",
       "Index: []"
      ]
     },
     "execution_count": 85,
     "metadata": {},
     "output_type": "execute_result"
    }
   ],
   "source": [
    "subreddit = 'cats'\n",
    "with open(f'raw/r/cats-1640995200-1666483200.json', 'r') as f:\n",
    "    res_data_pushshift = json.load(f)\n",
    "\n",
    "# res_data_pushshift['data']\n",
    "df_pushshift = pd.DataFrame()\n",
    "\n",
    "for post in res_data_pushshift['data']:\n",
    "    df_pushshift = df_pushshift.append({\n",
    "        'Subreddit': post['subreddit'],\n",
    "        'Title': post['title'],\n",
    "        'Self Text': post['selftext'],\n",
    "        'Upvote Ratio': post['upvote_ratio'],\n",
    "        # 'Up Votes': post['ups'],\n",
    "        # 'Down Votes': post['downs'],\n",
    "        'Score': post['score'],\n",
    "\n",
    "    }, ignore_index = True)\n",
    "df_pushshift"
   ]
  },
  {
   "cell_type": "markdown",
   "metadata": {},
   "source": [
    "## Challenges Faced\n",
    "\n",
    "While collecting the data, knowing the required parameters using the documentation was a bit tricky at first as the API documentation of reddit was autogenerated. Once collected, choosing which data to work on and which to ignore was the next big issue as there was a lot of data. As there were lot of possibilities that meant choosing one was difficult. If I were to redo this assignment, then I would set the problem statements first and  then start with the rest. Once I have decided on a few parameters then cleaning up and storing the values in a usable data format was the longest in time as there was a lot to clean up and there were a lot of layers of arrays and dictionaries. With these two taking much more time than I anticipated, I had a lot less time to work on data analysis. Again, if I had to redo this,Then I would set specific deadlines to each part so that I would have enough time to do each part in a proper way.\n",
    "\n",
    "## Future Scope:\n",
    "One of the things I had planned but had no time to do is to do a sentiment analysis of each subreddit’s top 1000 posts’ title and comments and see how they correlate to other factors such as the upvote ratio, active subscribers, and user base demographic, and geographic data. And with push shift data, see how the subreddit has changed over time, in terms of reach, their contribution, and if they have become more positive or negative. There is also the possibility to see a specific user post history. A similar analysis also could be done.\n"
   ]
  }
 ],
 "metadata": {
  "kernelspec": {
   "display_name": "Python 3.9.5 64-bit",
   "language": "python",
   "name": "python3"
  },
  "language_info": {
   "codemirror_mode": {
    "name": "ipython",
    "version": 3
   },
   "file_extension": ".py",
   "mimetype": "text/x-python",
   "name": "python",
   "nbconvert_exporter": "python",
   "pygments_lexer": "ipython3",
   "version": "3.9.5"
  },
  "orig_nbformat": 4,
  "vscode": {
   "interpreter": {
    "hash": "11938c6bc6919ae2720b4d5011047913343b08a43b18698fd82dedb0d4417594"
   }
  }
 },
 "nbformat": 4,
 "nbformat_minor": 2
}
